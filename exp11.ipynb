{
  "nbformat": 4,
  "nbformat_minor": 0,
  "metadata": {
    "colab": {
      "provenance": [],
      "authorship_tag": "ABX9TyO3hPeYu4YG4o0rCXmeRCoN",
      "include_colab_link": true
    },
    "kernelspec": {
      "name": "python3",
      "display_name": "Python 3"
    },
    "language_info": {
      "name": "python"
    }
  },
  "cells": [
    {
      "cell_type": "markdown",
      "metadata": {
        "id": "view-in-github",
        "colab_type": "text"
      },
      "source": [
        "<a href=\"https://colab.research.google.com/github/srishti1837/House-Price-Prediction/blob/main/exp11.ipynb\" target=\"_parent\"><img src=\"https://colab.research.google.com/assets/colab-badge.svg\" alt=\"Open In Colab\"/></a>"
      ]
    },
    {
      "cell_type": "code",
      "execution_count": null,
      "metadata": {
        "colab": {
          "base_uri": "https://localhost:8080/"
        },
        "id": "g2glLJilFJ66",
        "outputId": "5f666b09-7959-4cff-e39e-d9895ee7a06a"
      },
      "outputs": [
        {
          "output_type": "stream",
          "name": "stdout",
          "text": [
            "RMSE: 92792.37331148329\n",
            "R² Score (Accuracy): 0.5148848812741439\n",
            "Mean Absolute Percentage Error: 17.460519278319335 %\n",
            "Coefficients: [   143.21853204 -13512.56442597]\n",
            "Intercept: 84763.62252219388\n",
            "Predicted Price for area=2000, rooms=3: 330662.99332532845\n"
          ]
        },
        {
          "output_type": "stream",
          "name": "stderr",
          "text": [
            "/usr/local/lib/python3.12/dist-packages/sklearn/utils/validation.py:2739: UserWarning: X does not have valid feature names, but LinearRegression was fitted with feature names\n",
            "  warnings.warn(\n"
          ]
        }
      ],
      "source": [
        "import pandas as pd\n",
        "from sklearn.model_selection import train_test_split\n",
        "from sklearn.linear_model import LinearRegression\n",
        "from sklearn.metrics import mean_squared_error, r2_score, mean_absolute_percentage_error\n",
        "import numpy as np\n",
        "\n",
        "# Load your dataset\n",
        "df = pd.read_csv(\"house_price.csv\")  # Replace with your actual file name\n",
        "\n",
        "# Features & Target\n",
        "X = df[['area', 'rooms']]\n",
        "y = df['price']\n",
        "\n",
        "# 80% Training, 20% Testing\n",
        "X_train, X_test, y_train, y_test = train_test_split(X, y, test_size=0.2, random_state=42)\n",
        "\n",
        "# Train Linear Regression Model\n",
        "model = LinearRegression()\n",
        "model.fit(X_train, y_train)\n",
        "\n",
        "# Predictions\n",
        "y_pred = model.predict(X_test)\n",
        "\n",
        "# Metrics\n",
        "rmse = np.sqrt(mean_squared_error(y_test, y_pred))\n",
        "r2 = r2_score(y_test, y_pred)\n",
        "mape = mean_absolute_percentage_error(y_test, y_pred) * 100  # in percentage\n",
        "\n",
        "print(\"RMSE:\", rmse)\n",
        "print(\"R² Score (Accuracy):\", r2)\n",
        "print(\"Mean Absolute Percentage Error:\", mape, \"%\")\n",
        "print(\"Coefficients:\", model.coef_)\n",
        "print(\"Intercept:\", model.intercept_)\n",
        "\n",
        "# Predict for a new house example\n",
        "new_area = 2000\n",
        "new_rooms = 3\n",
        "predicted_price = model.predict([[new_area, new_rooms]])\n",
        "print(f\"Predicted Price for area={new_area}, rooms={new_rooms}: {predicted_price[0]}\")\n"
      ]
    }
  ]
}